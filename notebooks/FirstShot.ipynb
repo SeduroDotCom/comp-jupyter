{
 "cells": [
  {
   "cell_type": "code",
   "execution_count": null,
   "id": "sufficient-edward",
   "metadata": {},
   "outputs": [],
   "source": [
    "# PROCESS GRAPHQL-EXAMPLE\n",
    "\n",
    "import requests\n",
    "import json\n",
    "\n",
    "endpoint = f\"http://docker.for.mac.localhost:8130/graphql\"\n",
    "headers = {\"x-authorization\": \"1234567890\"}\n",
    "\n",
    "query = \"\"\"query {\n",
    "    \n",
    "  getProductsByCategories(categories: [\"L3_828424\"]) {\n",
    "    sku, active\n",
    "  }\n",
    "    \n",
    "}\"\"\"\n",
    "\n",
    "r = requests.post(endpoint, json={\"query\": query}, headers=headers)\n",
    "print(\"done\")\n",
    "if r.status_code == 200:\n",
    "    print(json.dumps(r.json(), indent=2))\n",
    "else:\n",
    "    raise Exception(f\"Query failed to run with a {r.status_code}.\")"
   ]
  },
  {
   "cell_type": "code",
   "execution_count": null,
   "id": "2a237811-c202-49cc-a0d9-aa48d618aeac",
   "metadata": {
    "pycharm": {
     "name": "#%%\n"
    }
   },
   "outputs": [],
   "source": [
    "# PRINT FILE EXAMPLE\n",
    "\n",
    "import json\n",
    "\n",
    "with open('../data/catalogs.json') as f:\n",
    "  data = json.load(f)\n",
    "\n",
    "print(data)\n",
    "\n",
    "catalog_data = data"
   ]
  }
 ],
 "metadata": {
  "kernelspec": {
   "display_name": "Python 3 (ipykernel)",
   "language": "python",
   "name": "python3"
  },
  "language_info": {
   "codemirror_mode": {
    "name": "ipython",
    "version": 3
   },
   "file_extension": ".py",
   "mimetype": "text/x-python",
   "name": "python",
   "nbconvert_exporter": "python",
   "pygments_lexer": "ipython3",
   "version": "3.9.9"
  }
 },
 "nbformat": 4,
 "nbformat_minor": 5
}