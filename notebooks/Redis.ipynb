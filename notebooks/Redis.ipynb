{
 "cells": [
  {
   "cell_type": "code",
   "execution_count": null,
   "id": "2146ab3e-f6d8-400d-8f53-8b88ddce6be2",
   "metadata": {},
   "outputs": [],
   "source": [
    "! pip install redis"
   ]
  },
  {
   "cell_type": "code",
   "execution_count": null,
   "id": "dc4638bf-bd0e-48b0-a80c-abc97007903e",
   "metadata": {},
   "outputs": [],
   "source": [
    "! python -V"
   ]
  },
  {
   "cell_type": "markdown",
   "id": "d059233b-88e3-40b2-a999-d073bf27bd38",
   "metadata": {},
   "source": [
    "# Import-Guide\n",
    "- [Import-guide](https://developer.redis.com/guides/import/)"
   ]
  },
  {
   "cell_type": "code",
   "execution_count": null,
   "id": "e8bffbb4-081e-4316-8277-05c416e8374e",
   "metadata": {},
   "outputs": [],
   "source": [
    "# REDIS WRITE/READ EXAMPLE\n",
    "\n",
    "import redis\n",
    "\n",
    "rd = redis.Redis(host='docker.for.mac.localhost', port=6379, db=0, decode_responses=True)\n",
    "\n",
    "rd.set(\"Key1\", \"hello\")\n",
    "data = rd.get(\"Key1\")\n",
    "\n",
    "print(data)\n"
   ]
  },
  {
   "cell_type": "code",
   "execution_count": null,
   "id": "fee3e026-f5a1-421a-a167-e016d39ca583",
   "metadata": {},
   "outputs": [],
   "source": [
    "# get hash set\n",
    "user = rd.hgetall(\"user:001\")\n",
    "\n",
    "print(user)\n",
    "print(user['first_name'])\n",
    "\n",
    "\n",
    "# Hash Set\n",
    "rd.hset(\"person1-hash\", \"name\", \"jane\")\n",
    "\n",
    "jane=rd.hget(\"person1-hash\", \"name\")\n",
    "print(jane)\n"
   ]
  },
  {
   "cell_type": "code",
   "execution_count": null,
   "id": "d022a825",
   "metadata": {
    "collapsed": false,
    "jupyter": {
     "outputs_hidden": false
    },
    "pycharm": {
     "name": "#%%\n"
    }
   },
   "outputs": [],
   "source": [
    "import datetime\n",
    "\n",
    "def createDV(dt):\n",
    "    result = dt.strftime(\"%Y%m%d-%I%M\")\n",
    "    print(result)\n",
    "\n",
    "    return result"
   ]
  },
  {
   "cell_type": "code",
   "execution_count": null,
   "id": "30aaed7b",
   "metadata": {
    "collapsed": false,
    "jupyter": {
     "outputs_hidden": false
    },
    "pycharm": {
     "name": "#%%\n"
    }
   },
   "outputs": [],
   "source": [
    "import datetime\n",
    "\n",
    "def createTestData(name, year):\n",
    "    base=datetime.datetime.now()\n",
    "\n",
    "    data={'host': name}\n",
    "\n",
    "    first=datetime.datetime(year, 1, base.day, 10,33,0)\n",
    "\n",
    "\n",
    "    n=1\n",
    "    for i in [1,4,8,12]:\n",
    "        aa=datetime.datetime(year, i, base.day, 12,0,0)\n",
    "\n",
    "        # data[f\"entry#{n}\"]=aa.strftime(\"%-d %B %Y, %I:%M:%S%p\")\n",
    "        data[f\"{name}-entry#{n}\"]=aa.isoformat()\n",
    "        n+=1\n",
    "\n",
    "    return data,createDV(first)\n",
    "\n",
    "data,dv = createTestData('sentinel', 2022)\n",
    "\n",
    "print(data, dv)\n"
   ]
  },
  {
   "cell_type": "code",
   "execution_count": null,
   "id": "d34bf618-8e66-49de-8ce8-a4cdc75ee207",
   "metadata": {},
   "outputs": [],
   "source": [
    "import redis\n",
    "\n",
    "\n",
    "# CREATE REDIS ENTRIES\n",
    "\n",
    "rd = redis.StrictRedis(host='docker.for.mac.localhost', port=6379, db=0, decode_responses=True)\n",
    "\n",
    "data,dv = createTestData('redis', 2022)   \n",
    "rd.hmset(dv, data)\n",
    "\n",
    "# CREATE SENTINEL ENTRIES\n",
    "\n",
    "rd = redis.StrictRedis(host='docker.for.mac.localhost', port=6380, db=0, decode_responses=True)\n",
    "\n",
    "data,dv = createTestData('sentinel', 2022)   \n",
    "rd.hmset(dv, data)\n"
   ]
  },
  {
   "cell_type": "code",
   "execution_count": null,
   "id": "5780e38a-4670-42e2-8dd6-f48f2e5bef7e",
   "metadata": {},
   "outputs": [],
   "source": [
    "# MKDIR-EXAMPLE\n",
    "\n",
    "import os\n",
    "os.makedirs(\"jupyter-make-dir-example\")"
   ]
  },
  {
   "cell_type": "code",
   "execution_count": null,
   "id": "910cd6bc-6a77-4fdb-912c-a6f94899c787",
   "metadata": {},
   "outputs": [],
   "source": [
    "# DELETE ALL REDIS-ENTRIES\n",
    "\n",
    "rd = redis.StrictRedis(host='docker.for.mac.localhost', port=6379, db=0, decode_responses=True)\n",
    "rd.flushdb()"
   ]
  },
  {
   "cell_type": "code",
   "execution_count": null,
   "id": "53501943-2c48-48e3-99fc-122b5f064942",
   "metadata": {
    "pycharm": {
     "name": "#%%\n"
    }
   },
   "outputs": [],
   "source": [
    "# DELETE DIR'S\n",
    "import shutil\n",
    "shutil.rmtree('/project/datapool/')"
   ]
  }
 ],
 "metadata": {
  "kernelspec": {
   "display_name": "Python 3 (ipykernel)",
   "language": "python",
   "name": "python3"
  },
  "language_info": {
   "codemirror_mode": {
    "name": "ipython",
    "version": 3
   },
   "file_extension": ".py",
   "mimetype": "text/x-python",
   "name": "python",
   "nbconvert_exporter": "python",
   "pygments_lexer": "ipython3",
   "version": "3.9.9"
  }
 },
 "nbformat": 4,
 "nbformat_minor": 5
}